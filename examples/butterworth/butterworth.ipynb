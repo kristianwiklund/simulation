{
 "cells": [
  {
   "cell_type": "markdown",
   "metadata": {},
   "source": [
    "# Simulating KiCad schematics with Ngspice\n",
    "This project is a small set of Python modules to simulate KiCad schematics using Ngspice.\n",
    "\n",
    "Design a schematic as usual in KiCad using KiCad's normal R, C, L and spice simulation components.  Load the schematic and use Ngspice to do AC, DC, transient or noise simulations and get the results back as numpy arrays.  You can then perform calculations or plot the arrays using any tool you'd like.  In this demo I'm using matplotlib.\n",
    "\n",
    "There's one more good reason to use matplotlib: one of these modules can render the KiCad schematic to a matplotlib plot which is rather nice if you want to show the schematic in a Jupyter notebook like this.\n",
    "\n",
    "If you are looking at the read only copy of this notebook you can find the actual [Jupyter\n",
    "Notebook here](butterworth.ipynb)."
   ]
  },
  {
   "cell_type": "markdown",
   "metadata": {},
   "source": [
    "### Basic stuff"
   ]
  },
  {
   "cell_type": "code",
   "execution_count": null,
   "metadata": {},
   "outputs": [],
   "source": [
    "# Just the normal prequisites for using matplotlib and numpy in a Jupyter notebook\n",
    "%matplotlib inline\n",
    "# Use the svg backend, in my opinion it just makes better looking plots\n",
    "%config InlineBackend.figure_format = 'svg'\n",
    "import matplotlib.pyplot as plt\n",
    "import numpy as np\n",
    "# The spice and kicad modules are located above us\n",
    "import sys\n",
    "sys.path.append('../..')\n",
   ]
  },
  {
   "cell_type": "markdown",
   "metadata": {},
   "source": [
    "### Load a kicad schematic"
   ]
  },
  {
   "cell_type": "code",
   "execution_count": null,
   "metadata": {},
   "outputs": [],
   "source": [
    "from kicad import schema\n",
    "fn = 'butterworth.sch'\n",
    "sch = schema.Sch(fn)"
   ]
  },
  {
   "cell_type": "markdown",
   "metadata": {},
   "source": [
    "### Render the kicad schematic in a matplotlib plot\n",
    "Yes, using matplotlib as a drawing backend is a bit ugly, but it works and it means that we can display it using every backend supported by matplotlib, such as in a Jupyter notebook.  And having the schematic available directly in the notebook when working with it is rather nice."
   ]
  },
  {
   "cell_type": "code",
   "execution_count": null,
   "metadata": {
    "scrolled": false
   },
   "outputs": [],
   "source": [
    "from kicad import matplotlib_renderer\n",
    "fig, ax = plt.subplots(figsize = (8, 6))\n",
    "# Add a bit of margin since matplotlib chops off the text otherwise\n",
    "ax.set_xmargin(0.1)\n",
    "ax.set_ymargin(0.1)\n",
    "matplotlib_renderer.render_to_ax(ax, sch)\n",
    "plt.show()"
   ]
  },
  {
   "cell_type": "markdown",
   "metadata": {},
   "source": [
    "... or save the figure in any file format supported by matplotlib."
   ]
  },
  {
   "cell_type": "code",
   "execution_count": null,
   "metadata": {},
   "outputs": [],
   "source": [
    "# Make the plot fill the whole image\n",
    "fig.subplots_adjust(left = 0, right = 1.0, top = 1.0, bottom = 0.0)\n",
    "fig.savefig('butterworth.png')\n",
    "fig.savefig('butterworth.svg')\n",
    "fig.savefig('butterworth.pdf')"
   ]
  },
  {
   "cell_type": "markdown",
   "metadata": {},
   "source": [
    "You can check out the resulting [PNG](./butterworth.png), [SVG](./butterworth.svg), and [PDF](./butterworth.pdf) files here.\n",
    "\n",
    "Also note that the \"plt.show()\" command at the end really isn't needed in a Jupyter notebook, but if you want to try this directly in Python you will need it."
   ]
  },
  {
   "cell_type": "markdown",
   "metadata": {},
   "source": [
    "The schematic contains R and C symbols from the Device library and the component values are extracted from the normal value field.\n",
    "\n",
    "The power symbols have names of the form \"+iVf\" or \"-iVf\" where i is the integer part and f is the fractional part of the voltage; e.g. \"-2V5\" will add a -2.5V DC voltage supply between the symbol and ground.\n",
    "\n",
    "Symbols from the Spice library ought to work, but I have only tested the voltage and current sources.\n",
    "\n",
    "It should be possible to annotate any other symbols with Spice models and make them work too.  For an example on how to do this, look at how the [OP-amp in the butterworth schematic has been set up](./butterworth-opamp.png)."
   ]
  },
  {
   "cell_type": "markdown",
   "metadata": {},
   "source": [
    "### Convert the kicad schematic to a spice circuit"
   ]
  },
  {
   "cell_type": "code",
   "execution_count": null,
   "metadata": {},
   "outputs": [],
   "source": [
    "from kicad import spice_converter\n",
    "circuit = spice_converter.sch_to_circuit(sch)"
   ]
  },
  {
   "cell_type": "markdown",
   "metadata": {},
   "source": [
    "### Set up the Ngspice simulator"
   ]
  },
  {
   "cell_type": "code",
   "execution_count": null,
   "metadata": {},
   "outputs": [],
   "source": [
    "from spice import ngspice, xyce, ltspice\n",
    "sim = ngspice.Simulator()\n",
    "# sim = xyce.Simulator()\n",
    "# sim = ltspice.Simulator()\n",
    "\n",
    "# Print the Ngspice circuit\n",
    "print(sim.circuit_to_spice(circuit).strip())"
   ]
  },
  {
   "cell_type": "markdown",
   "metadata": {},
   "source": [
    "### Perform a DC simulation and plot it"
   ]
  },
  {
   "cell_type": "code",
   "execution_count": null,
   "metadata": {
    "scrolled": false
   },
   "outputs": [],
   "source": [
    "# Import some convenient SI prefixes and a decibel converter\n",
    "from spice.unit import M, k, m, u, n, p, dBa\n",
    "\n",
    "# Run the DC simulation\n",
    "dc_data = sim.dc(circuit, 'V101', -2, 2, 1 * m)\n",
    "\n",
    "# Plot the results\n",
    "plt.plot(dc_data['SWEEP'], dc_data['V(VOUT)']);\n",
    "\n",
    "# Show the plot\n",
    "plt.show()"
   ]
  },
  {
   "cell_type": "markdown",
   "metadata": {},
   "source": [
    "We can see that vout is limited by the supply voltage to the OP-amp."
   ]
  },
  {
   "cell_type": "markdown",
   "metadata": {},
   "source": [
    "### Perform multiple AC simulations varying the capacitor values"
   ]
  },
  {
   "cell_type": "code",
   "execution_count": null,
   "metadata": {},
   "outputs": [],
   "source": [
    "# The capacitor names and values we want to use\n",
    "cap_refs = [ 'C101', 'C102', 'C103' ]\n",
    "cap_values = [ 35 * n, 350 * n, 3500 * n ]\n",
    "\n",
    "# Run the simulations and save the results in ac_data\n",
    "ac_data = []\n",
    "for v in cap_values:\n",
    "    for ref in cap_refs:\n",
    "        circuit.devices[ref].value = v\n",
    "    ac_data.append((v, sim.ac(circuit, 'dec', 10, 1, 100 * k)))\n",
    "    \n",
    "# Show all the results from ac_data in one plot\n",
    "for v, data in ac_data:\n",
    "    # The Y values are converted to dB\n",
    "    plt.plot(data['SWEEP'].real, dBa(data['V(VOUT)']), label = str(v))   \n",
    "\n",
    "# Change the X axis scale to logarithmic\n",
    "plt.xscale('log')\n",
    "\n",
    "# Add a legend and labels for the axes\n",
    "plt.legend()\n",
    "plt.xlabel(\"Frequency (Hz)\")\n",
    "plt.ylabel(\"VOUT (dBV)\")\n",
    "\n",
    "# Show the plot\n",
    "plt.show()"
   ]
  },
  {
   "cell_type": "markdown",
   "metadata": {},
   "source": [
    "### Do transient simulations"
   ]
  },
  {
   "cell_type": "code",
   "execution_count": null,
   "metadata": {
    "scrolled": false
   },
   "outputs": [],
   "source": [
    "# Run simulations with all the values\n",
    "tran_data = []\n",
    "for v in cap_values:\n",
    "    for ref in cap_refs:\n",
    "        circuit.devices[ref].value = v\n",
    "    tran_data.append((v, sim.tran(circuit, 100 * u, 50 * m)))\n",
    "\n",
    "# Plot the results\n",
    "for v, data in tran_data:\n",
    "    plt.plot(data['TIME'].real, data['V(VOUT)'], label = str(v))\n",
    "\n",
    "# Plot vin for the last simulation so that we can see the stimuli\n",
    "plt.plot(data['TIME'].real, data['V(VIN)'], label = \"VIN\", color = 'black')\n",
    "\n",
    "# Add a legend and labels for the axes\n",
    "plt.legend()\n",
    "plt.xlabel(\"Time (s)\")\n",
    "plt.ylabel(\"VOUT (dbV)\");\n",
    "\n",
    "# Show the plot\n",
    "plt.show()"
   ]
  },
  {
   "cell_type": "markdown",
   "metadata": {},
   "source": [
    "### Pretty figures\n",
    "Matplotlib can have multiple subplots in one figure.  Which can make for some rather nice \"datasheet\"-like figures.\n"
   ]
  },
  {
   "cell_type": "code",
   "execution_count": null,
   "metadata": {
    "scrolled": false
   },
   "outputs": [],
   "source": [
    "fig = plt.figure(figsize = (8, 6))\n",
    "\n",
    "ax = fig.add_subplot(2, 2, 1)\n",
    "ax.set_title(\"Schematic used for simulation\")\n",
    "ax.set_xmargin(0.1)\n",
    "ax.set_ymargin(0.1)\n",
    "matplotlib_renderer.render_to_ax(ax, sch)\n",
    "\n",
    "ax = fig.add_subplot(2, 2, 2)\n",
    "ax.set_title(\"DC Simulation\")\n",
    "ax.plot(dc_data['SWEEP'], dc_data['V(VOUT)'])\n",
    "plt.xlabel(\"Frequency (Hz)\")\n",
    "plt.ylabel(\"VOUT (V)\")\n",
    "\n",
    "ax = fig.add_subplot(2, 2, 3)\n",
    "for v, data in ac_data:\n",
    "    ax.plot(data['SWEEP'].real, dBa(data['V(VOUT)']), label = str(v))   \n",
    "ax.set_xscale('log')\n",
    "ax.set_title(\"AC Simulation\")\n",
    "ax.legend()\n",
    "plt.xlabel(\"Frequency (Hz)\")\n",
    "plt.ylabel(\"VOUT (dBV)\")\n",
    "\n",
    "ax = fig.add_subplot(2, 2, 4)\n",
    "for v, data in tran_data:\n",
    "    ax.plot(data['TIME'].real, data['V(VOUT)'], label = str(v))\n",
    "ax.plot(data['TIME'].real, data['V(VIN)'], label = \"VIN\", color = 'black')\n",
    "ax.set_title(\"Transient Simulation\")\n",
    "ax.legend()\n",
    "plt.xlabel(\"Time (s)\")\n",
    "plt.ylabel(\"VOUT (V)\")\n",
    "\n",
    "# Stop the figures from overlapping\n",
    "fig.tight_layout()\n",
    "\n",
    "# Show the plot\n",
    "plt.show()"
   ]
  }
 ],
 "metadata": {
  "kernelspec": {
   "display_name": "Python 3",
   "language": "python",
   "name": "python3"
  },
  "language_info": {
   "codemirror_mode": {
    "name": "ipython",
    "version": 3
   },
   "file_extension": ".py",
   "mimetype": "text/x-python",
   "name": "python",
   "nbconvert_exporter": "python",
   "pygments_lexer": "ipython3",
   "version": "3.5.2"
  }
 },
 "nbformat": 4,
 "nbformat_minor": 2
}
